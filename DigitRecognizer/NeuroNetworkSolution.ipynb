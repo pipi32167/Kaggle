{
 "cells": [
  {
   "cell_type": "code",
   "execution_count": 1,
   "metadata": {},
   "outputs": [],
   "source": [
    "import numpy as np\n",
    "import pandas as pd\n",
    "import matplotlib.pyplot as plt\n",
    "%matplotlib inline\n",
    "\n",
    "datasets_train = pd.read_csv(\"./input/train.csv\")\n",
    "datasets_test = pd.read_csv(\"./input/test.csv\")\n",
    "\n",
    "def get_X_y(datasets):\n",
    "    return datasets_train.drop(\"label\", axis=1), datasets_train[\"label\"].copy()\n",
    "\n",
    "X_train, y_train = get_X_y(datasets_train)\n",
    "X_test = datasets_test\n",
    "\n",
    "def save_submission(model, X_test, try_times=0):\n",
    "    y_pred = model.predict(X_test)\n",
    "    data = np.c_[np.array([idx + 1 for idx in range(len(y_pred))]), y_pred]\n",
    "    y_pred_csv = pd.DataFrame(data=data, columns=[\"ImageId\", \"Label\"])\n",
    "    y_pred_csv.to_csv(\"./output/submission_%(try_times)02d.csv\" % {\"try_times\": try_times}, index=False)\n",
    "        "
   ]
  },
  {
   "cell_type": "code",
   "execution_count": 3,
   "metadata": {},
   "outputs": [
    {
     "name": "stdout",
     "output_type": "stream",
     "text": [
      "[CV]  ................................................................\n",
      "[CV]  ................................................................\n",
      "[CV]  ................................................................\n",
      "[CV] ................................................. , total=28.9min\n",
      "[CV] ................................................. , total=28.9min\n",
      "[CV] ................................................. , total=28.9min\n"
     ]
    },
    {
     "name": "stderr",
     "output_type": "stream",
     "text": [
      "[Parallel(n_jobs=-1)]: Done   3 out of   3 | elapsed: 29.0min finished\n"
     ]
    },
    {
     "data": {
      "text/plain": [
       "0.11152380727340205"
      ]
     },
     "execution_count": 3,
     "metadata": {},
     "output_type": "execute_result"
    }
   ],
   "source": [
    "from sklearn.svm import SVC\n",
    "from sklearn.model_selection import cross_val_score\n",
    "\n",
    "svm_clf = SVC()\n",
    "score = cross_val_score(\n",
    "    svm_clf, \n",
    "    X_train,\n",
    "    y_train,\n",
    "    cv=3,\n",
    "    scoring=\"accuracy\",\n",
    "    verbose=2,\n",
    "    n_jobs=-1,\n",
    ")\n",
    "score.mean()"
   ]
  },
  {
   "cell_type": "code",
   "execution_count": 5,
   "metadata": {},
   "outputs": [
    {
     "name": "stdout",
     "output_type": "stream",
     "text": [
      "[CV]  ................................................................\n",
      "[CV]  ................................................................\n",
      "[CV]  ................................................................\n",
      "[CV] ................................................. , total= 1.8min\n",
      "[CV] ................................................. , total= 1.8min\n",
      "[CV] ................................................. , total= 1.8min\n"
     ]
    },
    {
     "name": "stderr",
     "output_type": "stream",
     "text": [
      "[Parallel(n_jobs=-1)]: Done   3 out of   3 | elapsed:  1.8min finished\n"
     ]
    },
    {
     "data": {
      "text/plain": [
       "0.27773992604076664"
      ]
     },
     "execution_count": 5,
     "metadata": {},
     "output_type": "execute_result"
    }
   ],
   "source": [
    "from sklearn.neural_network import MLPClassifier\n",
    "\n",
    "mlp_clf = MLPClassifier(\n",
    "    solver=\"lbfgs\",\n",
    "    alpha=1e-5,\n",
    "    hidden_layer_sizes=(5,4,3,2)\n",
    ")\n",
    "\n",
    "score = cross_val_score(\n",
    "    mlp_clf, \n",
    "    X_train,\n",
    "    y_train,\n",
    "    cv=3,\n",
    "    scoring=\"accuracy\",\n",
    "    verbose=2,\n",
    "    n_jobs=-1,\n",
    ")\n",
    "score.mean()"
   ]
  },
  {
   "cell_type": "code",
   "execution_count": 8,
   "metadata": {},
   "outputs": [
    {
     "name": "stdout",
     "output_type": "stream",
     "text": [
      "[CV]  ................................................................\n",
      "[CV]  ................................................................\n",
      "[CV]  ................................................................\n",
      "[CV] ................................................. , total=   2.2s\n",
      "[CV] ................................................. , total=   2.2s\n",
      "[CV] ................................................. , total=   2.2s\n"
     ]
    },
    {
     "name": "stderr",
     "output_type": "stream",
     "text": [
      "[Parallel(n_jobs=-1)]: Done   3 out of   3 | elapsed:    4.2s finished\n"
     ]
    },
    {
     "data": {
      "text/plain": [
       "0.934476408858996"
      ]
     },
     "execution_count": 8,
     "metadata": {},
     "output_type": "execute_result"
    }
   ],
   "source": [
    "from sklearn.ensemble import RandomForestClassifier\n",
    "\n",
    "rf_clf = RandomForestClassifier()\n",
    "score = cross_val_score(\n",
    "    rf_clf, \n",
    "    X_train, \n",
    "    y_train, \n",
    "    cv=3, \n",
    "    scoring=\"accuracy\", \n",
    "    n_jobs=-1,\n",
    "    verbose=2\n",
    ")\n",
    "score.mean()"
   ]
  },
  {
   "cell_type": "code",
   "execution_count": 13,
   "metadata": {},
   "outputs": [
    {
     "name": "stdout",
     "output_type": "stream",
     "text": [
      "[CV]  ................................................................\n",
      "[CV]  ................................................................\n",
      "[CV]  ................................................................\n",
      "[CV] ................................................. , total= 1.8min\n",
      "[CV] ................................................. , total= 1.8min\n",
      "[CV] ................................................. , total= 1.8min\n"
     ]
    },
    {
     "name": "stderr",
     "output_type": "stream",
     "text": [
      "[Parallel(n_jobs=-1)]: Done   3 out of   3 | elapsed:  1.9min finished\n"
     ]
    },
    {
     "data": {
      "text/plain": [
       "0.9642383930556203"
      ]
     },
     "execution_count": 13,
     "metadata": {},
     "output_type": "execute_result"
    }
   ],
   "source": [
    "from sklearn.ensemble import AdaBoostClassifier\n",
    "\n",
    "ab_clf = AdaBoostClassifier(base_estimator=RandomForestClassifier(n_estimators=500))\n",
    "score = cross_val_score(\n",
    "    ab_clf, \n",
    "    X_train, \n",
    "    y_train, \n",
    "    cv=3, \n",
    "    scoring=\"accuracy\", \n",
    "    n_jobs=-1,\n",
    "    verbose=2\n",
    ")\n",
    "score.mean()"
   ]
  },
  {
   "cell_type": "code",
   "execution_count": 14,
   "metadata": {},
   "outputs": [
    {
     "name": "stdout",
     "output_type": "stream",
     "text": [
      "Fitting 3 folds for each of 27 candidates, totalling 81 fits\n",
      "[CV] base_estimator__max_depth=1, base_estimator__n_estimators=100 ...\n",
      "[CV] base_estimator__max_depth=1, base_estimator__n_estimators=100 ...\n",
      "[CV] base_estimator__max_depth=1, base_estimator__n_estimators=100 ...\n",
      "[CV] base_estimator__max_depth=1, base_estimator__n_estimators=200 ...\n",
      "[CV] base_estimator__max_depth=1, base_estimator__n_estimators=200 ...\n",
      "[CV] base_estimator__max_depth=1, base_estimator__n_estimators=200 ...\n",
      "[CV] base_estimator__max_depth=1, base_estimator__n_estimators=300 ...\n",
      "[CV] base_estimator__max_depth=1, base_estimator__n_estimators=300 ...\n",
      "[CV]  base_estimator__max_depth=1, base_estimator__n_estimators=100, total= 2.6min\n",
      "[CV] base_estimator__max_depth=1, base_estimator__n_estimators=300 ...\n",
      "[CV]  base_estimator__max_depth=1, base_estimator__n_estimators=100, total= 2.6min\n",
      "[CV] base_estimator__max_depth=2, base_estimator__n_estimators=100 ...\n",
      "[CV]  base_estimator__max_depth=1, base_estimator__n_estimators=100, total= 2.6min\n",
      "[CV] base_estimator__max_depth=2, base_estimator__n_estimators=100 ...\n",
      "[CV]  base_estimator__max_depth=1, base_estimator__n_estimators=200, total= 5.3min\n",
      "[CV] base_estimator__max_depth=2, base_estimator__n_estimators=100 ...\n",
      "[CV]  base_estimator__max_depth=1, base_estimator__n_estimators=200, total= 5.3min\n",
      "[CV]  base_estimator__max_depth=1, base_estimator__n_estimators=200, total= 5.3min\n",
      "[CV] base_estimator__max_depth=2, base_estimator__n_estimators=200 ...\n",
      "[CV] base_estimator__max_depth=2, base_estimator__n_estimators=200 ...\n",
      "[CV]  base_estimator__max_depth=2, base_estimator__n_estimators=100, total= 4.2min\n",
      "[CV] base_estimator__max_depth=2, base_estimator__n_estimators=200 ...\n",
      "[CV]  base_estimator__max_depth=2, base_estimator__n_estimators=100, total= 4.2min\n",
      "[CV] base_estimator__max_depth=2, base_estimator__n_estimators=300 ...\n",
      "[CV]  base_estimator__max_depth=1, base_estimator__n_estimators=300, total= 7.9min\n",
      "[CV] base_estimator__max_depth=2, base_estimator__n_estimators=300 ...\n",
      "[CV]  base_estimator__max_depth=1, base_estimator__n_estimators=300, total= 7.9min\n",
      "[CV] base_estimator__max_depth=2, base_estimator__n_estimators=300 ...\n",
      "[CV]  base_estimator__max_depth=2, base_estimator__n_estimators=100, total= 4.0min\n",
      "[CV] base_estimator__max_depth=3, base_estimator__n_estimators=100 ...\n",
      "[CV]  base_estimator__max_depth=1, base_estimator__n_estimators=300, total= 7.8min\n",
      "[CV] base_estimator__max_depth=3, base_estimator__n_estimators=100 ...\n",
      "[CV]  base_estimator__max_depth=2, base_estimator__n_estimators=200, total= 7.8min\n",
      "[CV] base_estimator__max_depth=3, base_estimator__n_estimators=100 ...\n",
      "[CV]  base_estimator__max_depth=2, base_estimator__n_estimators=200, total= 7.8min\n",
      "[CV] base_estimator__max_depth=3, base_estimator__n_estimators=200 ...\n",
      "[CV]  base_estimator__max_depth=2, base_estimator__n_estimators=200, total= 7.7min\n",
      "[CV] base_estimator__max_depth=3, base_estimator__n_estimators=200 ...\n",
      "[CV]  base_estimator__max_depth=3, base_estimator__n_estimators=100, total= 5.4min\n",
      "[CV] base_estimator__max_depth=3, base_estimator__n_estimators=200 ...\n",
      "[CV]  base_estimator__max_depth=3, base_estimator__n_estimators=100, total= 5.6min\n",
      "[CV] base_estimator__max_depth=3, base_estimator__n_estimators=300 ...\n",
      "[CV]  base_estimator__max_depth=2, base_estimator__n_estimators=300, total=11.9min\n",
      "[CV] base_estimator__max_depth=3, base_estimator__n_estimators=300 ...\n",
      "[CV]  base_estimator__max_depth=3, base_estimator__n_estimators=100, total= 5.7min\n",
      "[CV] base_estimator__max_depth=3, base_estimator__n_estimators=300 ...\n",
      "[CV]  base_estimator__max_depth=2, base_estimator__n_estimators=300, total=11.9min\n",
      "[CV] base_estimator__max_depth=4, base_estimator__n_estimators=100 ...\n",
      "[CV]  base_estimator__max_depth=2, base_estimator__n_estimators=300, total=11.9min\n",
      "[CV] base_estimator__max_depth=4, base_estimator__n_estimators=100 ...\n",
      "[CV]  base_estimator__max_depth=3, base_estimator__n_estimators=200, total=10.8min\n",
      "[CV] base_estimator__max_depth=4, base_estimator__n_estimators=100 ...\n",
      "[CV]  base_estimator__max_depth=3, base_estimator__n_estimators=200, total=10.7min\n",
      "[CV] base_estimator__max_depth=4, base_estimator__n_estimators=200 ...\n",
      "[CV]  base_estimator__max_depth=3, base_estimator__n_estimators=200, total=10.7min\n",
      "[CV] base_estimator__max_depth=4, base_estimator__n_estimators=200 ...\n",
      "[CV]  base_estimator__max_depth=4, base_estimator__n_estimators=100, total= 6.6min\n",
      "[CV] base_estimator__max_depth=4, base_estimator__n_estimators=200 ...\n"
     ]
    },
    {
     "name": "stderr",
     "output_type": "stream",
     "text": [
      "[Parallel(n_jobs=-1)]: Done  25 tasks      | elapsed: 29.5min\n"
     ]
    },
    {
     "name": "stdout",
     "output_type": "stream",
     "text": [
      "[CV]  base_estimator__max_depth=4, base_estimator__n_estimators=100, total= 6.7min\n",
      "[CV] base_estimator__max_depth=4, base_estimator__n_estimators=300 ...\n",
      "[CV]  base_estimator__max_depth=4, base_estimator__n_estimators=100, total= 6.7min\n",
      "[CV] base_estimator__max_depth=4, base_estimator__n_estimators=300 ...\n",
      "[CV]  base_estimator__max_depth=3, base_estimator__n_estimators=300, total=15.5min\n",
      "[CV] base_estimator__max_depth=4, base_estimator__n_estimators=300 ...\n",
      "[CV]  base_estimator__max_depth=3, base_estimator__n_estimators=300, total=15.4min\n",
      "[CV] base_estimator__max_depth=5, base_estimator__n_estimators=100 ...\n",
      "[CV]  base_estimator__max_depth=3, base_estimator__n_estimators=300, total=15.4min\n",
      "[CV] base_estimator__max_depth=5, base_estimator__n_estimators=100 ...\n",
      "[CV]  base_estimator__max_depth=4, base_estimator__n_estimators=200, total=13.3min\n",
      "[CV] base_estimator__max_depth=5, base_estimator__n_estimators=100 ...\n",
      "[CV]  base_estimator__max_depth=4, base_estimator__n_estimators=200, total=13.4min\n",
      "[CV] base_estimator__max_depth=5, base_estimator__n_estimators=200 ...\n",
      "[CV]  base_estimator__max_depth=4, base_estimator__n_estimators=200, total=13.4min\n",
      "[CV] base_estimator__max_depth=5, base_estimator__n_estimators=200 ...\n",
      "[CV]  base_estimator__max_depth=5, base_estimator__n_estimators=100, total= 8.5min\n",
      "[CV] base_estimator__max_depth=5, base_estimator__n_estimators=200 ...\n",
      "[CV]  base_estimator__max_depth=5, base_estimator__n_estimators=100, total= 8.5min\n",
      "[CV] base_estimator__max_depth=5, base_estimator__n_estimators=300 ...\n",
      "[CV]  base_estimator__max_depth=4, base_estimator__n_estimators=300, total=20.0min\n",
      "[CV] base_estimator__max_depth=5, base_estimator__n_estimators=300 ...\n",
      "[CV]  base_estimator__max_depth=5, base_estimator__n_estimators=100, total= 8.5min\n",
      "[CV] base_estimator__max_depth=5, base_estimator__n_estimators=300 ...\n",
      "[CV]  base_estimator__max_depth=4, base_estimator__n_estimators=300, total=20.1min\n",
      "[CV] base_estimator__max_depth=6, base_estimator__n_estimators=100 ...\n",
      "[CV]  base_estimator__max_depth=4, base_estimator__n_estimators=300, total=20.1min\n",
      "[CV] base_estimator__max_depth=6, base_estimator__n_estimators=100 ...\n",
      "[CV]  base_estimator__max_depth=5, base_estimator__n_estimators=200, total=16.9min\n",
      "[CV] base_estimator__max_depth=6, base_estimator__n_estimators=100 ...\n",
      "[CV]  base_estimator__max_depth=5, base_estimator__n_estimators=200, total=16.8min\n",
      "[CV] base_estimator__max_depth=6, base_estimator__n_estimators=200 ...\n",
      "[CV]  base_estimator__max_depth=5, base_estimator__n_estimators=200, total=16.9min\n",
      "[CV] base_estimator__max_depth=6, base_estimator__n_estimators=200 ...\n",
      "[CV]  base_estimator__max_depth=6, base_estimator__n_estimators=100, total=10.3min\n",
      "[CV] base_estimator__max_depth=6, base_estimator__n_estimators=200 ...\n",
      "[CV]  base_estimator__max_depth=6, base_estimator__n_estimators=100, total=10.3min\n",
      "[CV] base_estimator__max_depth=6, base_estimator__n_estimators=300 ...\n",
      "[CV]  base_estimator__max_depth=6, base_estimator__n_estimators=100, total=10.3min\n",
      "[CV] base_estimator__max_depth=6, base_estimator__n_estimators=300 ...\n",
      "[CV]  base_estimator__max_depth=5, base_estimator__n_estimators=300, total=25.2min\n",
      "[CV] base_estimator__max_depth=6, base_estimator__n_estimators=300 ...\n",
      "[CV]  base_estimator__max_depth=5, base_estimator__n_estimators=300, total=25.3min\n",
      "[CV] base_estimator__max_depth=7, base_estimator__n_estimators=100 ...\n",
      "[CV]  base_estimator__max_depth=5, base_estimator__n_estimators=300, total=25.2min\n",
      "[CV] base_estimator__max_depth=7, base_estimator__n_estimators=100 ...\n",
      "[CV]  base_estimator__max_depth=6, base_estimator__n_estimators=200, total=20.6min\n",
      "[CV] base_estimator__max_depth=7, base_estimator__n_estimators=100 ...\n",
      "[CV]  base_estimator__max_depth=6, base_estimator__n_estimators=200, total=20.7min\n",
      "[CV] base_estimator__max_depth=7, base_estimator__n_estimators=200 ...\n",
      "[CV]  base_estimator__max_depth=6, base_estimator__n_estimators=200, total=20.6min\n",
      "[CV] base_estimator__max_depth=7, base_estimator__n_estimators=200 ...\n",
      "[CV]  base_estimator__max_depth=7, base_estimator__n_estimators=100, total=12.3min\n",
      "[CV] base_estimator__max_depth=7, base_estimator__n_estimators=200 ...\n",
      "[CV]  base_estimator__max_depth=7, base_estimator__n_estimators=100, total=12.3min\n",
      "[CV] base_estimator__max_depth=7, base_estimator__n_estimators=300 ...\n",
      "[CV]  base_estimator__max_depth=7, base_estimator__n_estimators=100, total=12.3min\n",
      "[CV] base_estimator__max_depth=7, base_estimator__n_estimators=300 ...\n",
      "[CV]  base_estimator__max_depth=6, base_estimator__n_estimators=300, total=31.0min\n",
      "[CV] base_estimator__max_depth=7, base_estimator__n_estimators=300 ...\n",
      "[CV]  base_estimator__max_depth=6, base_estimator__n_estimators=300, total=31.0min\n",
      "[CV] base_estimator__max_depth=8, base_estimator__n_estimators=100 ...\n",
      "[CV]  base_estimator__max_depth=6, base_estimator__n_estimators=300, total=31.1min\n",
      "[CV] base_estimator__max_depth=8, base_estimator__n_estimators=100 ...\n",
      "[CV]  base_estimator__max_depth=7, base_estimator__n_estimators=200, total=24.5min\n",
      "[CV] base_estimator__max_depth=8, base_estimator__n_estimators=100 ...\n",
      "[CV]  base_estimator__max_depth=7, base_estimator__n_estimators=200, total=24.6min\n",
      "[CV] base_estimator__max_depth=8, base_estimator__n_estimators=200 ...\n",
      "[CV]  base_estimator__max_depth=7, base_estimator__n_estimators=200, total=24.6min\n",
      "[CV] base_estimator__max_depth=8, base_estimator__n_estimators=200 ...\n",
      "[CV]  base_estimator__max_depth=8, base_estimator__n_estimators=100, total=14.4min\n",
      "[CV] base_estimator__max_depth=8, base_estimator__n_estimators=200 ...\n",
      "[CV]  base_estimator__max_depth=8, base_estimator__n_estimators=100, total=14.5min\n",
      "[CV] base_estimator__max_depth=8, base_estimator__n_estimators=300 ...\n",
      "[CV]  base_estimator__max_depth=8, base_estimator__n_estimators=100, total=14.6min\n",
      "[CV] base_estimator__max_depth=8, base_estimator__n_estimators=300 ...\n",
      "[CV]  base_estimator__max_depth=7, base_estimator__n_estimators=300, total=37.1min\n",
      "[CV] base_estimator__max_depth=8, base_estimator__n_estimators=300 ...\n",
      "[CV]  base_estimator__max_depth=7, base_estimator__n_estimators=300, total=37.2min\n",
      "[CV] base_estimator__max_depth=9, base_estimator__n_estimators=100 ...\n",
      "[CV]  base_estimator__max_depth=7, base_estimator__n_estimators=300, total=37.0min\n",
      "[CV] base_estimator__max_depth=9, base_estimator__n_estimators=100 ...\n",
      "[CV]  base_estimator__max_depth=8, base_estimator__n_estimators=200, total=28.9min\n",
      "[CV] base_estimator__max_depth=9, base_estimator__n_estimators=100 ...\n",
      "[CV]  base_estimator__max_depth=8, base_estimator__n_estimators=200, total=28.9min\n",
      "[CV] base_estimator__max_depth=9, base_estimator__n_estimators=200 ...\n",
      "[CV]  base_estimator__max_depth=8, base_estimator__n_estimators=200, total=28.8min\n",
      "[CV] base_estimator__max_depth=9, base_estimator__n_estimators=200 ...\n",
      "[CV]  base_estimator__max_depth=9, base_estimator__n_estimators=100, total=16.5min\n",
      "[CV] base_estimator__max_depth=9, base_estimator__n_estimators=200 ...\n",
      "[CV]  base_estimator__max_depth=9, base_estimator__n_estimators=100, total=16.6min\n",
      "[CV] base_estimator__max_depth=9, base_estimator__n_estimators=300 ...\n",
      "[CV]  base_estimator__max_depth=9, base_estimator__n_estimators=100, total=16.6min\n",
      "[CV] base_estimator__max_depth=9, base_estimator__n_estimators=300 ...\n",
      "[CV]  base_estimator__max_depth=8, base_estimator__n_estimators=300, total=43.4min\n",
      "[CV] base_estimator__max_depth=9, base_estimator__n_estimators=300 ...\n",
      "[CV]  base_estimator__max_depth=8, base_estimator__n_estimators=300, total=43.5min\n",
      "[CV]  base_estimator__max_depth=8, base_estimator__n_estimators=300, total=43.6min\n",
      "[CV]  base_estimator__max_depth=9, base_estimator__n_estimators=200, total=32.2min\n",
      "[CV]  base_estimator__max_depth=9, base_estimator__n_estimators=200, total=31.7min\n",
      "[CV]  base_estimator__max_depth=9, base_estimator__n_estimators=200, total=30.5min\n",
      "[CV]  base_estimator__max_depth=9, base_estimator__n_estimators=300, total=37.7min\n",
      "[CV]  base_estimator__max_depth=9, base_estimator__n_estimators=300, total=35.2min\n",
      "[CV]  base_estimator__max_depth=9, base_estimator__n_estimators=300, total=32.3min\n"
     ]
    },
    {
     "name": "stderr",
     "output_type": "stream",
     "text": [
      "[Parallel(n_jobs=-1)]: Done  81 out of  81 | elapsed: 202.3min finished\n"
     ]
    },
    {
     "name": "stdout",
     "output_type": "stream",
     "text": [
      "{'base_estimator__max_depth': 9, 'base_estimator__n_estimators': 200}\n",
      "0.9686428571428571\n"
     ]
    }
   ],
   "source": [
    "from sklearn.model_selection import GridSearchCV\n",
    "\n",
    "param_grid = {\n",
    "    \"base_estimator__n_estimators\": [100,200,300],\n",
    "    \"base_estimator__max_depth\": range(1, 10),\n",
    "#     \"base_estimator__max_features\": ,\n",
    "}\n",
    "\n",
    "ab_clf = AdaBoostClassifier(base_estimator=RandomForestClassifier())\n",
    "\n",
    "grid_search = GridSearchCV(\n",
    "    ab_clf, \n",
    "    param_grid=param_grid,\n",
    "    cv=3, \n",
    "    scoring=\"accuracy\", \n",
    "    n_jobs=-1,\n",
    "    verbose=2\n",
    ")\n",
    "grid_search.fit(X_train, y_train)\n",
    "print(grid_search.best_params_)\n",
    "print(grid_search.best_score_)\n",
    "final_model = grid_search.best_estimator_"
   ]
  },
  {
   "cell_type": "code",
   "execution_count": 15,
   "metadata": {},
   "outputs": [],
   "source": [
    "save_submission(final_model, X_test, 4)"
   ]
  },
  {
   "cell_type": "code",
   "execution_count": null,
   "metadata": {},
   "outputs": [],
   "source": []
  }
 ],
 "metadata": {
  "kernelspec": {
   "display_name": "Python 3",
   "language": "python",
   "name": "python3"
  },
  "language_info": {
   "codemirror_mode": {
    "name": "ipython",
    "version": 3
   },
   "file_extension": ".py",
   "mimetype": "text/x-python",
   "name": "python",
   "nbconvert_exporter": "python",
   "pygments_lexer": "ipython3",
   "version": "3.7.0"
  }
 },
 "nbformat": 4,
 "nbformat_minor": 2
}
