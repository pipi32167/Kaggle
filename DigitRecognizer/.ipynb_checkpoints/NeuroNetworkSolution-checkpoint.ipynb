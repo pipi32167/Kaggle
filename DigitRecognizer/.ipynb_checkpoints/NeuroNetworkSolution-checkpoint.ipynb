{
 "cells": [
  {
   "cell_type": "code",
   "execution_count": null,
   "metadata": {},
   "outputs": [],
   "source": [
    "import numpy as np\n",
    "import pandas as pd\n",
    "import matplotlib.pyplot as plt\n",
    "%matplotlib inline\n",
    "\n",
    "datasets_train = pd.read_csv(\"./input/train.csv\")\n",
    "datasets_test = pd.read_csv(\"./input/test.csv\")\n",
    "\n",
    "def get_X_y(datasets):\n",
    "    return datasets_train.drop(\"label\", axis=1), datasets_train[\"label\"].copy()\n",
    "\n",
    "X_train, y_train = get_X_y(datasets_train)\n",
    "X_test = datasets_test\n",
    "\n",
    "def save_submission(model, X_test, try_times=0):\n",
    "    y_pred = model.predict(X_test)\n",
    "    data = np.c_[np.array([idx + 1 for idx in range(len(y_pred))]), y_pred]\n",
    "    y_pred_csv = pd.DataFrame(data=data, columns=[\"ImageId\", \"Label\"])\n",
    "    y_pred_csv.to_csv(\"./output/submission_%(try_times)02d.csv\" % {\"try_times\": try_times}, index=False)\n",
    "        "
   ]
  }
 ],
 "metadata": {
  "kernelspec": {
   "display_name": "Python 3",
   "language": "python",
   "name": "python3"
  },
  "language_info": {
   "codemirror_mode": {
    "name": "ipython",
    "version": 3
   },
   "file_extension": ".py",
   "mimetype": "text/x-python",
   "name": "python",
   "nbconvert_exporter": "python",
   "pygments_lexer": "ipython3",
   "version": "3.7.0"
  }
 },
 "nbformat": 4,
 "nbformat_minor": 2
}
